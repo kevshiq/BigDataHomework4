{
 "cells": [
  {
   "cell_type": "code",
   "execution_count": 7,
   "id": "94d89355-d935-4b82-a017-c2b0ce85301b",
   "metadata": {},
   "outputs": [
    {
     "name": "stderr",
     "output_type": "stream",
     "text": [
      "24/12/24 16:18:08 WARN Utils: Service 'SparkUI' could not bind on port 4040. Attempting port 4041.\n",
      "                                                                                "
     ]
    }
   ],
   "source": [
    "import findspark\n",
    "findspark.init(\"/home/chenekv/spark-3.5.4-bin-hadoop3-scala2.13\")\n",
    "\n",
    "from pyspark.sql import SparkSession\n",
    "from pyspark.sql.functions import udf, col, when\n",
    "from pyspark.sql.types import DateType, Row\n",
    "import pyspark.sql.functions as F\n",
    "from pyspark.ml.feature import VectorAssembler, StandardScaler\n",
    "from pyspark.ml.regression import LinearRegression\n",
    "from pyspark.ml.evaluation import RegressionEvaluator\n",
    "from pyspark.ml import Pipeline\n",
    "from datetime import datetime, timedelta\n",
    "\n",
    "spark = SparkSession.builder.appName(\"PurchaseRedemptionForecast_Optimized\").getOrCreate()\n",
    "\n",
    "user_balance_path = \"/home/chenekv/code/jupyterlab/Purchase Redemption Data/user_balance_table.csv\"\n",
    "user_balance_df = spark.read.csv(user_balance_path, header=True, inferSchema=True)\n",
    "\n",
    "# 删除不需要的列，包括利率相关的列\n",
    "user_balance_df = user_balance_df.drop(\"user_id\", \"category1\", \"category2\", \"category3\", \"category4\")\n",
    "\n",
    "# 按日期汇总申购和赎回金额\n",
    "daily_balance_df = user_balance_df.groupBy(\"report_date\").agg(\n",
    "    F.sum(\"total_purchase_amt\").alias(\"total_purchase_amt_sum\"),\n",
    "    F.sum(\"total_redeem_amt\").alias(\"total_redeem_amt_sum\")\n",
    ")"
   ]
  },
  {
   "cell_type": "code",
   "execution_count": 8,
   "id": "cb489896-ad5f-4ceb-8ecb-b8f36b5c23cb",
   "metadata": {},
   "outputs": [],
   "source": [
    "# 定义UDF将整数日期转换为DateType\n",
    "def int_to_date(date_int):\n",
    "    return datetime.strptime(str(date_int), \"%Y%m%d\")\n",
    "\n",
    "int_to_date_udf = udf(int_to_date, DateType())\n",
    "\n",
    "# 转换日期列为DateType\n",
    "daily_balance_df = daily_balance_df.withColumn(\"report_date\", int_to_date_udf(\"report_date\"))\n",
    "\n",
    "# 按日期排序\n",
    "sorted_df = daily_balance_df.orderBy(\"report_date\")\n",
    "\n",
    "# 提取日期特征（年、月、日、星期几、是否周末）\n",
    "extracted_df = sorted_df.withColumn(\"year\", F.year(\"report_date\")) \\\n",
    "                         .withColumn(\"month\", F.month(\"report_date\")) \\\n",
    "                         .withColumn(\"day\", F.dayofmonth(\"report_date\")) \\\n",
    "                         .withColumn(\"weekday\", F.dayofweek(\"report_date\")) \\\n",
    "                         .withColumn(\"is_weekend\", when(F.dayofweek(\"report_date\").isin([6,7]), 1).otherwise(0))\n",
    "\n",
    "# 组装特征向量，包括新添加的特征\n",
    "feature_cols = [\"year\", \"month\", \"day\", \"weekday\", \"is_weekend\"]\n",
    "assembler = VectorAssembler(inputCols=feature_cols, outputCol=\"features_unscaled\")\n",
    "features_unscaled_df = assembler.transform(extracted_df)\n",
    "\n",
    "# 标准化特征\n",
    "scaler = StandardScaler(inputCol=\"features_unscaled\", outputCol=\"features\", withStd=True, withMean=True)\n",
    "scaler_model = scaler.fit(features_unscaled_df)\n",
    "final_df = scaler_model.transform(features_unscaled_df)"
   ]
  },
  {
   "cell_type": "code",
   "execution_count": 9,
   "id": "14700b6d-dfdf-4f28-91ad-207dbcce323f",
   "metadata": {},
   "outputs": [
    {
     "name": "stderr",
     "output_type": "stream",
     "text": [
      "24/12/24 16:30:36 WARN Instrumentation: [cfd82a21] regParam is zero, which might cause numerical instability and overfitting.\n"
     ]
    }
   ],
   "source": [
    "# 构建训练集，筛选2013-07-01至2014-08-31的数据\n",
    "train_df = final_df.filter(\n",
    "    (F.col(\"report_date\") >= \"2013-07-01\") & (F.col(\"report_date\") <= \"2014-08-31\")\n",
    ")\n",
    "\n",
    "# 训练申购线性回归模型，添加正则化参数regParam=0\n",
    "lr_purchase = LinearRegression(featuresCol=\"features\", labelCol=\"total_purchase_amt_sum\", regParam=0)\n",
    "purchase_model = lr_purchase.fit(train_df)\n",
    "\n",
    "# 训练赎回线性回归模型，添加正则化参数regParam=1.0\n",
    "lr_redeem = LinearRegression(featuresCol=\"features\", labelCol=\"total_redeem_amt_sum\", regParam=1.0)\n",
    "redeem_model = lr_redeem.fit(train_df)\n",
    "\n",
    "# 构建预测集test_df\n",
    "start_date = datetime.strptime(\"2014-09-01\", \"%Y-%m-%d\")\n",
    "end_date = datetime.strptime(\"2014-09-30\", \"%Y-%m-%d\")\n",
    "delta = end_date - start_date\n",
    "\n",
    "date_list = [start_date + timedelta(days=i) for i in range(delta.days + 1)]\n",
    "date_rows = [Row(report_date=date) for date in date_list]\n",
    "test_dates_df = spark.createDataFrame(date_rows)\n",
    "\n",
    "test_features_df = test_dates_df.withColumn(\"year\", F.year(\"report_date\")) \\\n",
    "    .withColumn(\"month\", F.month(\"report_date\")) \\\n",
    "    .withColumn(\"day\", F.dayofmonth(\"report_date\")) \\\n",
    "    .withColumn(\"weekday\", F.dayofweek(\"report_date\")) \\\n",
    "    .withColumn(\"is_weekend\", when(F.dayofweek(\"report_date\").isin([6,7]), 1).otherwise(0))\n",
    "\n",
    "final_test_df = pipeline_model.transform(test_features_df)\n",
    "\n",
    "# 使用申购模型进行预测\n",
    "predictions_purchase = purchase_model.transform(final_test_df)\n",
    "# 使用赎回模型进行预测\n",
    "predictions_redeem = redeem_model.transform(final_test_df)"
   ]
  },
  {
   "cell_type": "code",
   "execution_count": 10,
   "id": "404a7ec8-63a4-49ee-985b-41624e38625c",
   "metadata": {},
   "outputs": [
    {
     "name": "stdout",
     "output_type": "stream",
     "text": [
      "+-------------------+--------------------------------+------------------------------+\n",
      "|report_date        |predicted_total_purchase_amt_sum|predicted_total_redeem_amt_sum|\n",
      "+-------------------+--------------------------------+------------------------------+\n",
      "|2014-09-01 00:00:00|2.7383887306066704E8            |2.9113740342730874E8          |\n",
      "|2014-09-02 00:00:00|2.8609955332742065E8            |2.965170968220188E8           |\n",
      "|2014-09-03 00:00:00|2.9836023359417427E8            |3.018967902167289E8           |\n",
      "|2014-09-04 00:00:00|3.106209138609279E8             |3.07276483611439E8            |\n",
      "|2014-09-05 00:00:00|2.2009421260618907E8            |2.558074010115124E8           |\n",
      "|2014-09-06 00:00:00|2.323548928729427E8             |2.6118709440622252E8          |\n",
      "|2014-09-07 00:00:00|2.6526555958516014E8            |2.993297245801239E8           |\n",
      "|2014-09-08 00:00:00|2.7752623985191375E8            |3.0470941797483397E8          |\n",
      "|2014-09-09 00:00:00|2.8978692011866736E8            |3.100891113695441E8           |\n",
      "|2014-09-10 00:00:00|3.0204760038542104E8            |3.154688047642542E8           |\n",
      "|2014-09-11 00:00:00|3.1430828065217465E8            |3.208484981589643E8           |\n",
      "|2014-09-12 00:00:00|2.237815793974358E8             |2.693794155590377E8           |\n",
      "|2014-09-13 00:00:00|2.3604225966418943E8            |2.7475910895374775E8          |\n",
      "|2014-09-14 00:00:00|2.689529263764069E8             |3.129017391276492E8           |\n",
      "|2014-09-15 00:00:00|2.812136066431605E8             |3.1828143252235925E8          |\n",
      "|2014-09-16 00:00:00|2.9347428690991414E8            |3.236611259170694E8           |\n",
      "|2014-09-17 00:00:00|3.057349671766678E8             |3.290408193117795E8           |\n",
      "|2014-09-18 00:00:00|3.179956474434214E8             |3.3442051270648956E8          |\n",
      "|2014-09-19 00:00:00|2.2746894618868256E8            |2.82951430106563E8            |\n",
      "|2014-09-20 00:00:00|2.397296264554362E8             |2.8833112350127304E8          |\n",
      "|2014-09-21 00:00:00|2.726402931676537E8             |3.264737536751745E8           |\n",
      "|2014-09-22 00:00:00|2.849009734344073E8             |3.3185344706988454E8          |\n",
      "|2014-09-23 00:00:00|2.971616537011609E8             |3.372331404645946E8           |\n",
      "|2014-09-24 00:00:00|3.094223339679145E8             |3.426128338593048E8           |\n",
      "|2014-09-25 00:00:00|3.2168301423466814E8            |3.4799252725401485E8          |\n",
      "|2014-09-26 00:00:00|2.3115631297992933E8            |2.9652344465408826E8          |\n",
      "|2014-09-27 00:00:00|2.4341699324668294E8            |3.019031380487983E8           |\n",
      "|2014-09-28 00:00:00|2.763276599589004E8             |3.4004576822269976E8          |\n",
      "|2014-09-29 00:00:00|2.88588340225654E8              |3.454254616174098E8           |\n",
      "|2014-09-30 00:00:00|3.008490204924077E8             |3.508051550121199E8           |\n",
      "+-------------------+--------------------------------+------------------------------+\n",
      "\n"
     ]
    }
   ],
   "source": [
    "# 合并预测结果\n",
    "predictions = predictions_purchase.select(\n",
    "    col(\"report_date\"),\n",
    "    col(\"prediction\").alias(\"predicted_total_purchase_amt_sum\")\n",
    ").join(\n",
    "    predictions_redeem.select(\n",
    "        col(\"report_date\"),\n",
    "        col(\"prediction\").alias(\"predicted_total_redeem_amt_sum\")\n",
    "    ),\n",
    "    on=\"report_date\"\n",
    ")\n",
    "\n",
    "predictions.select(\"report_date\", \"predicted_total_purchase_amt_sum\", \"predicted_total_redeem_amt_sum\") \\\n",
    "    .orderBy(\"report_date\") \\\n",
    "    .show(30, truncate=False)\n",
    "\n",
    "# 结果保存到CSV文件\n",
    "predictions.select(\"report_date\", \"predicted_total_purchase_amt_sum\", \"predicted_total_redeem_amt_sum\") \\\n",
    "    .orderBy(\"report_date\") \\\n",
    "    .coalesce(1) \\\n",
    "    .write \\\n",
    "    .csv(\"/home/chenekv/code/jupyterlab/Purchase Redemption Data/predictions_september_2014_optimized.csv\", header=True, mode=\"overwrite\")\n",
    "\n",
    "spark.stop()"
   ]
  }
 ],
 "metadata": {
  "kernelspec": {
   "display_name": "Python (venv)",
   "language": "python",
   "name": "venv"
  },
  "language_info": {
   "codemirror_mode": {
    "name": "ipython",
    "version": 3
   },
   "file_extension": ".py",
   "mimetype": "text/x-python",
   "name": "python",
   "nbconvert_exporter": "python",
   "pygments_lexer": "ipython3",
   "version": "3.10.12"
  }
 },
 "nbformat": 4,
 "nbformat_minor": 5
}
