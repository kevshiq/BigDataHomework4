{
 "cells": [
  {
   "cell_type": "code",
   "execution_count": 1,
   "id": "5da74392-7a44-4b98-872d-6c8d84fe0b92",
   "metadata": {},
   "outputs": [
    {
     "name": "stderr",
     "output_type": "stream",
     "text": [
      "24/12/21 17:14:21 WARN Utils: Your hostname, chenekv-virtual-machine resolves to a loopback address: 127.0.1.1; using 192.168.80.128 instead (on interface ens33)\n",
      "24/12/21 17:14:21 WARN Utils: Set SPARK_LOCAL_IP if you need to bind to another address\n",
      "Setting default log level to \"WARN\".\n",
      "To adjust logging level use sc.setLogLevel(newLevel). For SparkR, use setLogLevel(newLevel).\n",
      "24/12/21 17:14:21 WARN NativeCodeLoader: Unable to load native-hadoop library for your platform... using builtin-java classes where applicable\n",
      "                                                                                "
     ]
    }
   ],
   "source": [
    "import findspark\n",
    "findspark.init(\"/home/chenekv/spark-3.5.4-bin-hadoop3-scala2.13\")\n",
    "\n",
    "from pyspark import SparkContext, SparkConf\n",
    "from pyspark.sql import SparkSession\n",
    "from pyspark.sql.functions import col, sum, countDistinct\n",
    "\n",
    "#Initialize and read file\n",
    "spark = SparkSession.builder \\\n",
    "    .appName(\"UserBalanceAnalysis\") \\\n",
    "    .config(\"spark.driver.memory\", \"2g\") \\\n",
    "    .getOrCreate()\n",
    "\n",
    "file_path = \"/home/chenekv/code/jupyterlab/Purchase Redemption Data/user_balance_table.csv\"\n",
    "df = spark.read.csv(file_path, header=True, inferSchema=True)"
   ]
  },
  {
   "cell_type": "code",
   "execution_count": 2,
   "id": "e861547d-e51f-45eb-b25f-f09bdc9ce0b3",
   "metadata": {},
   "outputs": [],
   "source": [
    "spark.sparkContext.setLogLevel(\"ERROR\")"
   ]
  },
  {
   "cell_type": "code",
   "execution_count": 3,
   "id": "96137ea9-b7e5-4273-922e-def9627100aa",
   "metadata": {},
   "outputs": [
    {
     "name": "stderr",
     "output_type": "stream",
     "text": [
      "                                                                                "
     ]
    },
    {
     "name": "stdout",
     "output_type": "stream",
     "text": [
      "+-----------+------------+-------------+\n",
      "|report_date|total_inflow|total_outflow|\n",
      "+-----------+------------+-------------+\n",
      "|   20140717|   253011280|    298279385|\n",
      "|   20140627|   264282703|    399444352|\n",
      "|   20140515|   313367089|    238307643|\n",
      "|   20140314|   315897431|    311575572|\n",
      "|   20140114|   356907128|    159778389|\n",
      "|   20140714|   254797524|    284753279|\n",
      "|   20140501|   193045106|    143362755|\n",
      "|   20140519|   259077930|    293791406|\n",
      "|   20131014|   130315300|     40652625|\n",
      "|   20140228|   428721754|    322030204|\n",
      "|   20140113|   447207050|    178923772|\n",
      "|   20130921|    32406340|     26596179|\n",
      "|   20130831|    47655303|     22012016|\n",
      "|   20130807|    43908081|     29708706|\n",
      "|   20131110|   164813471|     85293644|\n",
      "|   20130912|    68573684|     45147220|\n",
      "|   20130703|    27270770|      5953867|\n",
      "|   20140403|   363877120|    266605457|\n",
      "|   20131210|   179471612|    147147341|\n",
      "|   20130822|    89130737|     25000672|\n",
      "+-----------+------------+-------------+\n",
      "only showing top 20 rows\n",
      "\n"
     ]
    }
   ],
   "source": [
    "daily_totals = df.groupBy(\"report_date\").agg(\n",
    "    sum(\"total_purchase_amt\").alias(\"total_inflow\"),\n",
    "    sum(\"total_redeem_amt\").alias(\"total_outflow\")\n",
    ")\n",
    "\n",
    "#Result\n",
    "daily_totals.show()\n",
    "\n",
    "output_path_task1 = \"/home/chenekv/code/jupyterlab/daily_totals_output\"\n",
    "daily_totals.write.csv(output_path_task1, header=True)"
   ]
  },
  {
   "cell_type": "code",
   "execution_count": 4,
   "id": "3520fc81-e34d-4bf2-a7a6-3e0eba3d29db",
   "metadata": {},
   "outputs": [
    {
     "name": "stderr",
     "output_type": "stream",
     "text": [
      "[Stage 8:=======>                                                   (1 + 7) / 8]"
     ]
    },
    {
     "name": "stdout",
     "output_type": "stream",
     "text": [
      "2014年8月活跃用户总数: 12767\n"
     ]
    },
    {
     "name": "stderr",
     "output_type": "stream",
     "text": [
      "                                                                                "
     ]
    }
   ],
   "source": [
    "august_data = df.filter((col(\"report_date\") >= 20140801) & (col(\"report_date\") <= 20140831))\n",
    "\n",
    "user_active_days = august_data.groupBy(\"user_id\").agg(\n",
    "    countDistinct(\"report_date\").alias(\"active_days\")\n",
    ")\n",
    "\n",
    "active_users = user_active_days.filter(col(\"active_days\") >= 5)\n",
    "\n",
    "active_user_count = active_users.count()\n",
    "\n",
    "print(f\"2014年8月活跃用户总数: {active_user_count}\")"
   ]
  },
  {
   "cell_type": "code",
   "execution_count": null,
   "id": "e7572ef0-ab6b-423d-ba51-98f2492e3ab0",
   "metadata": {},
   "outputs": [],
   "source": []
  }
 ],
 "metadata": {
  "kernelspec": {
   "display_name": "Python (venv)",
   "language": "python",
   "name": "venv"
  },
  "language_info": {
   "codemirror_mode": {
    "name": "ipython",
    "version": 3
   },
   "file_extension": ".py",
   "mimetype": "text/x-python",
   "name": "python",
   "nbconvert_exporter": "python",
   "pygments_lexer": "ipython3",
   "version": "3.10.12"
  }
 },
 "nbformat": 4,
 "nbformat_minor": 5
}
