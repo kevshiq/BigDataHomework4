{
 "cells": [
  {
   "cell_type": "code",
   "execution_count": 1,
   "id": "ce499a23-351c-4ec1-bb56-b8bc45ab8b10",
   "metadata": {},
   "outputs": [
    {
     "name": "stderr",
     "output_type": "stream",
     "text": [
      "24/12/21 17:46:31 WARN Utils: Your hostname, chenekv-virtual-machine resolves to a loopback address: 127.0.1.1; using 192.168.80.128 instead (on interface ens33)\n",
      "24/12/21 17:46:31 WARN Utils: Set SPARK_LOCAL_IP if you need to bind to another address\n",
      "Setting default log level to \"WARN\".\n",
      "To adjust logging level use sc.setLogLevel(newLevel). For SparkR, use setLogLevel(newLevel).\n",
      "24/12/21 17:46:32 WARN NativeCodeLoader: Unable to load native-hadoop library for your platform... using builtin-java classes where applicable\n",
      "24/12/21 17:46:32 WARN Utils: Service 'SparkUI' could not bind on port 4040. Attempting port 4041.\n",
      "24/12/21 17:46:32 WARN Utils: Service 'SparkUI' could not bind on port 4041. Attempting port 4042.\n",
      "                                                                                "
     ]
    },
    {
     "name": "stdout",
     "output_type": "stream",
     "text": [
      "Balance table columns: ['user_id', 'report_date', 'tBalance', 'yBalance', 'total_purchase_amt', 'direct_purchase_amt', 'purchase_bal_amt', 'purchase_bank_amt', 'total_redeem_amt', 'consume_amt', 'transfer_amt', 'tftobal_amt', 'tftocard_amt', 'share_amt', 'category1', 'category2', 'category3', 'category4']\n",
      "Profile table columns: ['user_id', 'sex', 'city', 'constellation']\n"
     ]
    }
   ],
   "source": [
    "import findspark\n",
    "findspark.init(\"/home/chenekv/spark-3.5.4-bin-hadoop3-scala2.13\")\n",
    "\n",
    "from pyspark.sql import SparkSession\n",
    "from pyspark.sql.functions import col, sum, avg, row_number\n",
    "from pyspark.sql.window import Window\n",
    "\n",
    "spark = SparkSession.builder \\\n",
    "    .appName(\"CityAnalysisTasks\") \\\n",
    "    .config(\"spark.driver.memory\", \"2g\") \\\n",
    "    .getOrCreate()\n",
    "\n",
    "balance_file = \"/home/chenekv/code/jupyterlab/Purchase Redemption Data/user_balance_table.csv\"\n",
    "balance_df = spark.read.csv(balance_file, header=True, inferSchema=True)\n",
    "\n",
    "profile_file = \"/home/chenekv/code/jupyterlab/Purchase Redemption Data/user_profile_table.csv\"\n",
    "profile_df = spark.read.csv(profile_file, header=True, inferSchema=True)\n",
    "\n",
    "print(\"Balance table columns:\", balance_df.columns)\n",
    "print(\"Profile table columns:\", profile_df.columns)"
   ]
  },
  {
   "cell_type": "code",
   "execution_count": 2,
   "id": "49a6348e-d14b-46bf-8c46-1431073f599d",
   "metadata": {},
   "outputs": [],
   "source": [
    "combined_df = balance_df.join(profile_df, on=\"user_id\", how=\"inner\")"
   ]
  },
  {
   "cell_type": "code",
   "execution_count": 3,
   "id": "4b9bfbcd-e86e-4b5d-960e-7711fa622da7",
   "metadata": {},
   "outputs": [
    {
     "name": "stdout",
     "output_type": "stream",
     "text": [
      "任务1：每个城市在2014年3月1日的用户平均余额\n",
      "+-------+------------------+\n",
      "|   city|   average_balance|\n",
      "+-------+------------------+\n",
      "|6281949| 2795923.837298216|\n",
      "|6301949|2650775.0664451825|\n",
      "|6081949|2643912.7566638007|\n",
      "|6481949|2087617.2136986302|\n",
      "|6411949|1929838.5617977527|\n",
      "|6412149| 1896363.471625767|\n",
      "|6581949|1526555.5551020408|\n",
      "+-------+------------------+\n",
      "\n"
     ]
    }
   ],
   "source": [
    "march_1_data = combined_df.filter(col(\"report_date\") == 20140301)\n",
    "\n",
    "city_avg_balance = march_1_data.groupBy(\"city\").agg(\n",
    "    avg(\"tBalance\").alias(\"average_balance\")\n",
    ")\n",
    "\n",
    "sorted_city_avg_balance = city_avg_balance.orderBy(col(\"average_balance\").desc())\n",
    "\n",
    "print(\"任务1：每个城市在2014年3月1日的用户平均余额\")\n",
    "sorted_city_avg_balance.show()\n",
    "\n",
    "output_path_task1 = \"/home/chenekv/code/jupyterlab/city_average_balance_output\"\n",
    "sorted_city_avg_balance.write.csv(output_path_task1, header=True)"
   ]
  },
  {
   "cell_type": "code",
   "execution_count": 4,
   "id": "f3c0cc3e-029c-4aca-bf35-c7c7b55011a7",
   "metadata": {},
   "outputs": [
    {
     "name": "stdout",
     "output_type": "stream",
     "text": [
      "任务2：每个城市总流量前3高的用户\n"
     ]
    },
    {
     "name": "stderr",
     "output_type": "stream",
     "text": [
      "                                                                                "
     ]
    },
    {
     "name": "stdout",
     "output_type": "stream",
     "text": [
      "+-------+-------+----------+\n",
      "|   city|user_id|total_flow|\n",
      "+-------+-------+----------+\n",
      "|6081949|  27235| 108475680|\n",
      "|6081949|  27746|  76065458|\n",
      "|6081949|  18945|  55304049|\n",
      "|6281949|  15118| 149311909|\n",
      "|6281949|  11397| 124293438|\n",
      "|6281949|  25814| 104428054|\n",
      "|6301949|   2429| 109171121|\n",
      "|6301949|  26825|  95374030|\n",
      "|6301949|  10932|  74016744|\n",
      "|6411949|    662|  75162566|\n",
      "|6411949|  21030|  49933641|\n",
      "|6411949|  16769|  49383506|\n",
      "|6412149|  22585| 200516731|\n",
      "|6412149|  14472| 138262790|\n",
      "|6412149|  25147|  70594902|\n",
      "|6481949|  12026|  51161825|\n",
      "|6481949|    670|  49626204|\n",
      "|6481949|  14877|  34488733|\n",
      "|6581949|   9494|  38854436|\n",
      "|6581949|  26876|  23449539|\n",
      "+-------+-------+----------+\n",
      "only showing top 20 rows\n",
      "\n"
     ]
    }
   ],
   "source": [
    "august_data = combined_df.filter((col(\"report_date\") >= 20140801) & (col(\"report_date\") <= 20140831))\n",
    "\n",
    "city_user_flow = august_data.groupBy(\"city\", \"user_id\").agg(\n",
    "    sum(col(\"total_purchase_amt\") + col(\"total_redeem_amt\")).alias(\"total_flow\")\n",
    ")\n",
    "\n",
    "windowSpec = Window.partitionBy(\"city\").orderBy(col(\"total_flow\").desc())\n",
    "\n",
    "top3_users_per_city = city_user_flow.withColumn(\"rank\", row_number().over(windowSpec)) \\\n",
    "    .filter(col(\"rank\") <= 3) \\\n",
    "    .select(\"city\", \"user_id\", \"total_flow\")\n",
    "\n",
    "print(\"任务2：每个城市总流量前3高的用户\")\n",
    "top3_users_per_city.show()\n",
    "\n",
    "output_path_task2 = \"/home/chenekv/code/jupyterlab/city_top_users_output\"\n",
    "top3_users_per_city.write.csv(output_path_task2, header=True)"
   ]
  },
  {
   "cell_type": "code",
   "execution_count": null,
   "id": "af3580d9-18e7-49af-859a-fde282a4dd8f",
   "metadata": {},
   "outputs": [],
   "source": []
  }
 ],
 "metadata": {
  "kernelspec": {
   "display_name": "Python (venv)",
   "language": "python",
   "name": "venv"
  },
  "language_info": {
   "codemirror_mode": {
    "name": "ipython",
    "version": 3
   },
   "file_extension": ".py",
   "mimetype": "text/x-python",
   "name": "python",
   "nbconvert_exporter": "python",
   "pygments_lexer": "ipython3",
   "version": "3.10.12"
  }
 },
 "nbformat": 4,
 "nbformat_minor": 5
}
